{
 "cells": [
  {
   "cell_type": "code",
   "execution_count": null,
   "metadata": {},
   "outputs": [],
   "source": [
    "# %pip install requests\n",
    "# %pip install beautifulsoup4"
   ]
  },
  {
   "cell_type": "code",
   "execution_count": null,
   "metadata": {},
   "outputs": [],
   "source": [
    "import requests\n",
    "from bs4 import BeautifulSoup\n",
    "\n",
    "\n",
    "# Definisci l'URL della pagina web da scaricare\n",
    "url = 'https://www.immobiliare.it/vendita-case/roma/?criterio=prezzo&ordine=asc'\n",
    "\n",
    "# Effettua una richiesta HTTP alla pagina web\n",
    "response = requests.get(url)\n",
    "data = {}\n",
    "seen_titles = set()\n",
    "# Verifica se la richiesta è andata a buon fine\n",
    "for i in range(1, 10):\n",
    "\n",
    "    url += ('&pag=' + str(i))\n",
    "    response = requests.get(url)\n",
    "    if response.status_code == 200:\n",
    "        # Parsing del contenuto HTML utilizzando BeautifulSoup\n",
    "        soup = BeautifulSoup(response.text, 'html.parser')\n",
    "        \n",
    "        print('Titolo della pagina:', soup.title.text)\n",
    "        # Trova tutti gli elementi HTML che contengono i titoli delle notizie (questo è un esempio, potrebbe variare a seconda del sito)\n",
    "        superficie = soup.find_all('li', class_='nd-list__item in-feat__item', attrs={'aria-label': \"superficie\"})\n",
    "        prices = soup.find_all('div', class_='in-reListCardPrice')\n",
    "        # Find all 'a' elements within the specified 'div' element\n",
    "        links = soup.find_all('div', class_=['nd-mediaObject__content in-reListCard__content', 'nd-mediaObject__content in-reListCard__content is-spaced'])\n",
    "        # Iterate over each link\n",
    "        i = 0\n",
    "        for link, price in zip(links, prices):\n",
    "            a_tag = link.find('a')\n",
    "            if a_tag is not None:\n",
    "                href = a_tag.get('href')  # Get the 'href' attribute\n",
    "                title = a_tag.get('title')  # Get the 'title' attribute\n",
    "                price_in_span = price.find('span')\n",
    "                superficie_element = link.find('li', attrs={'aria-label': \"superficie\"})\n",
    "                if superficie_element is not None:\n",
    "                    superficie_text =  int(superficie_element.text.replace(\"m²\", \"\").replace(\".\", \"\"))\n",
    "                else :\n",
    "                    superficie_text = -1\n",
    "                if price_in_span is not None:\n",
    "                    price_text = price_in_span.text\n",
    "                    int_price = int(price_text.replace(\"€\", \"\").replace(\".\", \"\").replace(\" \", \"\").replace(\"da\", \"\").split(\",\")[0])\n",
    "                # Add the data to the dictionary\n",
    "                definiteve_price = int_price / int(superficie_text)\n",
    "                if title in seen_titles:\n",
    "                    i += 1\n",
    "                    data[title + \" copia \" + str(i)] = {'Link': href,'Prezzo al m2' : (definiteve_price if definiteve_price > 0 else -1), 'Superficie': superficie_text if superficie_text > 0 else 'N/A' , 'Price': price_text}\n",
    "                else:\n",
    "                    data[title] = {'Link': href,'Prezzo al m2' : (definiteve_price if definiteve_price > 0 else -1), 'Superficie': superficie_text if superficie_text > 0 else 'N/A' , 'Price': price_text}\n",
    "                seen_titles.add(title)\n",
    "        # Print the data\n",
    "\n",
    "    else:\n",
    "        print('Errore nella richiesta HTTP:', response.status_code)\n",
    "print(data)"
   ]
  },
  {
   "cell_type": "markdown",
   "metadata": {},
   "source": [
    "Sort Data by Prezzo al m2"
   ]
  },
  {
   "cell_type": "code",
   "execution_count": null,
   "metadata": {},
   "outputs": [],
   "source": [
    "sorted_data = sorted(data.items(), key=lambda x: x[1]['Prezzo al m2'])\n",
    "\n",
    "for title, info in sorted_data:\n",
    "    print(f'Title: {title}, Link: {info[\"Link\"]}, Prezzo al m²: {info[\"Prezzo al m2\"]}, Superficie: {info[\"Superficie\"]}, Price: {info[\"Price\"]}')\n"
   ]
  },
  {
   "cell_type": "code",
   "execution_count": null,
   "metadata": {},
   "outputs": [],
   "source": [
    "html_content = \"<html><body><table>\"\n",
    "\n",
    "# Add table headers\n",
    "html_content += \"<tr><th>Title</th><th>Link</th><th>Prezzo al m²</th><th>Superficie</th><th>Price</th></tr>\"\n",
    "\n",
    "for title, info in sorted_data:\n",
    "    value = info['Prezzo al m2'] if info['Prezzo al m2'] < 1 else round(info['Prezzo al m2'])\n",
    "    html_content += f'<tr><td>{title}</td><td><a href=\"{info[\"Link\"]}\">Link</a></td><td>{value if value > 0 else \"N/A\"} €/m² </td><td>{info[\"Superficie\"]}</td><td>{info[\"Price\"]}</td></tr>'\n",
    "\n",
    "html_content += \"</table></body></html>\"\n",
    "\n",
    "# Write the HTML content to a file\n",
    "with open('output.html', 'w', encoding='utf-8') as f:\n",
    "    f.write(html_content)"
   ]
  }
 ],
 "metadata": {
  "kernelspec": {
   "display_name": "Python 3",
   "language": "python",
   "name": "python3"
  },
  "language_info": {
   "codemirror_mode": {
    "name": "ipython",
    "version": 3
   },
   "file_extension": ".py",
   "mimetype": "text/x-python",
   "name": "python",
   "nbconvert_exporter": "python",
   "pygments_lexer": "ipython3",
   "version": "3.7.9"
  }
 },
 "nbformat": 4,
 "nbformat_minor": 2
}
