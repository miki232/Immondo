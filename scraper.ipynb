{
 "cells": [
  {
   "cell_type": "code",
   "execution_count": null,
   "metadata": {},
   "outputs": [],
   "source": [
    "# %pip install requests\n",
    "# %pip install beautifulsoup4"
   ]
  },
  {
   "cell_type": "code",
   "execution_count": 3,
   "metadata": {},
   "outputs": [
    {
     "name": "stdout",
     "output_type": "stream",
     "text": [
      "Titolo della pagina: Case in vendita Trappeto - Immobiliare.it\n",
      "Titolo della pagina: Case in vendita Trappeto - Pag. 2 - Immobiliare.it\n",
      "Errore nella richiesta HTTP: 404\n",
      "Errore nella richiesta HTTP: 404\n",
      "Errore nella richiesta HTTP: 404\n",
      "Errore nella richiesta HTTP: 404\n",
      "Errore nella richiesta HTTP: 404\n",
      "Errore nella richiesta HTTP: 404\n",
      "Errore nella richiesta HTTP: 404\n"
     ]
    }
   ],
   "source": [
    "import requests\n",
    "from bs4 import BeautifulSoup\n",
    "\n",
    "\n",
    "# Definisci l'URL della pagina web da scaricare\n",
    "url = 'https://www.immobiliare.it/vendita-case/trappeto/?criterio=prezzo&ordine=asc'\n",
    "\n",
    "# Effettua una richiesta HTTP alla pagina web\n",
    "response = requests.get(url)\n",
    "data = {}\n",
    "seen_titles = set()\n",
    "# Verifica se la richiesta è andata a buon fine\n",
    "for i in range(1, 10):\n",
    "\n",
    "    url += ('&pag=' + str(i))\n",
    "    response = requests.get(url)\n",
    "    if response.status_code == 200:\n",
    "        # Parsing del contenuto HTML utilizzando BeautifulSoup\n",
    "        soup = BeautifulSoup(response.text, 'html.parser')\n",
    "        \n",
    "        print('Titolo della pagina:', soup.title.text)\n",
    "        # Trova tutti gli elementi HTML che contengono i titoli delle notizie (questo è un esempio, potrebbe variare a seconda del sito)\n",
    "        superficie = soup.find_all('li', class_='nd-list__item in-feat__item', attrs={'aria-label': \"superficie\"})\n",
    "        prices = soup.find_all('div', class_='in-reListCardPrice')\n",
    "        ids = soup.find_all('li', class_='nd-list__item in-reListItem in-realEstateResults__item')\n",
    "        # Find all 'a' elements within the specified 'div' element\n",
    "        links = soup.find_all('div', class_=['nd-mediaObject__content in-reListCard__content', 'nd-mediaObject__content in-reListCard__content is-spaced'])\n",
    "        # Iterate over each link\n",
    "        i = 0\n",
    "        for link, price, oneid in zip(links, prices, ids):\n",
    "            a_tag = link.find('a')\n",
    "            if a_tag is not None:\n",
    "                id = oneid.get('id')\n",
    "                href = a_tag.get('href')  # Get the 'href' attribute\n",
    "                title = a_tag.get('title')  # Get the 'title' attribute\n",
    "                price_in_span = price.find('span')\n",
    "                superficie_element = link.find('li', attrs={'aria-label': \"superficie\"})\n",
    "                if superficie_element is not None:\n",
    "                    superficie_text =  int(superficie_element.text.replace(\"m²\", \"\").replace(\".\", \"\"))\n",
    "                else :\n",
    "                    superficie_text = -1\n",
    "                if price_in_span is not None:\n",
    "                    price_text = price_in_span.text\n",
    "                    if price_text == \"Prezzo su richiesta\":\n",
    "                        price_text = str(-1)\n",
    "                    int_price = int(price_text.replace(\"€\", \"\").replace(\".\", \"\").replace(\" \", \"\").replace(\"da\", \"\").split(\",\")[0])\n",
    "                # Add the data to the dictionary\n",
    "                definiteve_price = int_price / int(superficie_text)\n",
    "                data[id] = {'Title': title, 'Link': href,'Prezzo al m2' : (definiteve_price if definiteve_price > 0 else -1), 'Superficie': superficie_text if superficie_text > 0 else 'N/A' , 'Price': price_text}\n",
    "                seen_titles.add(title)\n",
    "        # Print the data\n",
    "\n",
    "    else:\n",
    "        print('Errore nella richiesta HTTP:', response.status_code)"
   ]
  },
  {
   "cell_type": "markdown",
   "metadata": {},
   "source": [
    "Sort Data by Prezzo al m2"
   ]
  },
  {
   "cell_type": "code",
   "execution_count": 4,
   "metadata": {},
   "outputs": [
    {
     "name": "stdout",
     "output_type": "stream",
     "text": [
      "title: Villa unifamiliare Contrada San Cataldo, Trappeto, Link: https://www.immobiliare.it/annunci/93621198/, Prezzo al m²: -1, Superficie: 478, Price: -1\n",
      "title: Villa unifamiliare via Palma, Trappeto, Link: https://www.immobiliare.it/annunci/108028049/, Prezzo al m²: -1, Superficie: 500, Price: -1\n",
      "title: Villa unifamiliare Contrada San Cataldo, San Cataldo, Trappeto, Link: https://www.immobiliare.it/annunci/92685228/, Prezzo al m²: 181.02029621503016, Superficie: 1823, Price: € 330.000\n",
      "title: Quadrilocale via Fiume 26, Centro, Trappeto, Link: https://www.immobiliare.it/annunci/105882613/, Prezzo al m²: 317.46031746031747, Superficie: 189, Price: € 60.000\n",
      "title: Quadrilocale via A.Vespucci 70, Centro, Trappeto, Link: https://www.immobiliare.it/annunci/98538346/, Prezzo al m²: 320.5128205128205, Superficie: 156, Price: € 50.000\n",
      "title: Villa plurifamiliare Contrada Piano Inferno, Trappeto, Link: https://www.immobiliare.it/annunci/94415436/, Prezzo al m²: 460.5263157894737, Superficie: 380, Price: € 175.000\n",
      "title: Terratetto unifamiliare via Milano 94, Centro, Trappeto, Link: https://www.immobiliare.it/annunci/108171299/, Prezzo al m²: 523.0769230769231, Superficie: 130, Price: € 68.000\n",
      "title: Villa plurifamiliare, da ristrutturare, 303 m², Trappeto, Link: https://www.immobiliare.it/annunci/99338052/, Prezzo al m²: 577.5577557755776, Superficie: 303, Price: € 175.000\n",
      "title: Appartamento via Catania 39, Centro, Trappeto, Link: https://www.immobiliare.it/annunci/80523357/, Prezzo al m²: 600.0, Superficie: 200, Price: € 120.000\n",
      "title: Trilocale via Napoli 50, Centro, Trappeto, Link: https://www.immobiliare.it/annunci/98728338/, Prezzo al m²: 627.6595744680851, Superficie: 94, Price: € 59.000\n",
      "title: Appartamento via Milano 5, Centro, Trappeto, Link: https://www.immobiliare.it/annunci/100265394/, Prezzo al m²: 666.6666666666666, Superficie: 105, Price: € 70.000\n",
      "title: Villa plurifamiliare via Ciammarita, 49, Centro, Trappeto, Link: https://www.immobiliare.it/annunci/107112799/, Prezzo al m²: 743.9024390243902, Superficie: 820, Price: € 610.000\n",
      "title: Villa plurifamiliare via Ciammarita, 49, Centro, Trappeto, Link: https://www.immobiliare.it/annunci/108760517/, Prezzo al m²: 743.9024390243902, Superficie: 820, Price: € 610.000\n",
      "title: Quadrilocale via torino n °10, Centro, Trappeto, Link: https://www.immobiliare.it/annunci/101040611/, Prezzo al m²: 770.0, Superficie: 100, Price: € 77.000\n",
      "title: Villa unifamiliare via dei Gelsomini, Piano Inferno Gelsomini Sorisi, Trappeto, Link: https://www.immobiliare.it/annunci/88793735/, Prezzo al m²: 826.9230769230769, Superficie: 260, Price: € 215.000\n",
      "title: Terratetto unifamiliare via Silvio Pellico 13, Centro, Trappeto, Link: https://www.immobiliare.it/annunci/90187611/, Prezzo al m²: 833.3333333333334, Superficie: 150, Price: € 125.000\n",
      "title: Palazzo - Edificio via Milano 12, Centro, Trappeto, Link: https://www.immobiliare.it/annunci/106582569/, Prezzo al m²: 875.0, Superficie: 160, Price: € 140.000\n",
      "title: Trilocale via Residenziale, Centro, Trappeto, Link: https://www.immobiliare.it/annunci/51993913/, Prezzo al m²: 937.5, Superficie: 80, Price: € 75.000\n",
      "title: Bilocale via Leonardo da Vinci 68, Centro, Trappeto, Link: https://www.immobiliare.it/annunci/95773066/, Prezzo al m²: 961.5384615384615, Superficie: 78, Price: € 75.000\n",
      "title: Villa plurifamiliare San Giuseppe, Trappeto, Link: https://www.immobiliare.it/annunci/92065814/, Prezzo al m²: 970.5882352941177, Superficie: 340, Price: € 330.000\n",
      "title: Villa unifamiliare Sp43, Piano Inferno Gelsomini Sorisi, Trappeto, Link: https://www.immobiliare.it/annunci/69231718/, Prezzo al m²: 995.3703703703703, Superficie: 216, Price: € 215.000\n",
      "title: Quadrilocale via Santa Croce 18, Centro, Trappeto, Link: https://www.immobiliare.it/annunci/98746678/, Prezzo al m²: 1058.8235294117646, Superficie: 85, Price: € 90.000\n",
      "title: Villa unifamiliare Contrada San Cataldo, Trappeto, Link: https://www.immobiliare.it/annunci/104050657/, Prezzo al m²: 1093.75, Superficie: 320, Price: € 350.000\n",
      "title: Rustico via Cerasella Snc, Centro, Trappeto, Link: https://www.immobiliare.it/annunci/106733461/, Prezzo al m²: 1111.111111111111, Superficie: 135, Price: € 150.000\n",
      "title: Trilocale viale Salvatore Vitale, Centro, Trappeto, Link: https://www.immobiliare.it/annunci/107485001/, Prezzo al m²: 1117.6470588235295, Superficie: 85, Price: € 95.000\n",
      "title: Villa unifamiliare Contrada San Cataldo 1, Trappeto, Link: https://www.immobiliare.it/annunci/98159676/, Prezzo al m²: 1136.3636363636363, Superficie: 220, Price: € 250.000\n",
      "title: Trilocale via XXIV Giugno 99, Centro, Trappeto, Link: https://www.immobiliare.it/annunci/104692153/, Prezzo al m²: 1188.118811881188, Superficie: 101, Price: € 120.000\n",
      "title: Palazzo - Edificio via Salvatore Vitale 19, Centro, Trappeto, Link: https://www.immobiliare.it/annunci/103899963/, Prezzo al m²: 1200.0, Superficie: 500, Price: € 600.000\n",
      "title: Villa unifamiliare contrada piano inferno, Trappeto, Link: https://www.immobiliare.it/annunci/87148948/, Prezzo al m²: 1241.6666666666667, Superficie: 120, Price: € 149.000\n",
      "title: Trilocale via XXIV Giugno 99, Centro, Trappeto, Link: https://www.immobiliare.it/annunci/104691065/, Prezzo al m²: 1250.0, Superficie: 96, Price: € 120.000\n",
      "title: Villa unifamiliare via Marina, Centro, Trappeto, Link: https://www.immobiliare.it/annunci/90773183/, Prezzo al m²: 1318.1818181818182, Superficie: 110, Price: € 145.000\n",
      "title: Monolocale Piano Inferno, Piano Inferno Marina, Trappeto, Link: https://www.immobiliare.it/annunci/108935805/, Prezzo al m²: 1346.1538461538462, Superficie: 52, Price: € 70.000\n",
      "title: Villa bifamiliare Contrada Piano Re San, Piano Inferno Marina, Trappeto, Link: https://www.immobiliare.it/annunci/81208183/, Prezzo al m²: 1490.6832298136646, Superficie: 161, Price: € 240.000\n",
      "title: Trilocale via XXIV Giugno, Centro, Trappeto, Link: https://www.immobiliare.it/annunci/98651870/, Prezzo al m²: 1500.0, Superficie: 80, Price: € 120.000\n",
      "title: Appartamento via Salvatore di Gaetano 18, Centro, Trappeto, Link: https://www.immobiliare.it/annunci/105841297/, Prezzo al m²: 1500.0, Superficie: 90, Price: € 135.000\n",
      "title: Villa unifamiliare Contrada Ciammarita, Piano Inferno Marina, Trappeto, Link: https://www.immobiliare.it/annunci/102790730/, Prezzo al m²: 1500.0, Superficie: 160, Price: € 240.000\n",
      "title: Villa bifamiliare Badiella, Trappeto, Link: https://www.immobiliare.it/annunci/100345198/, Prezzo al m²: 1500.0, Superficie: 160, Price: € 240.000\n",
      "title: Villa unifamiliare via Borgo di Dio, Trappeto, Link: https://www.immobiliare.it/annunci/104855157/, Prezzo al m²: 1566.6666666666667, Superficie: 150, Price: € 235.000\n",
      "title: Villa plurifamiliare via 24 Giugno 99, Centro, Trappeto, Link: https://www.immobiliare.it/annunci/94323500/, Prezzo al m²: 1625.0, Superficie: 80, Price: € 130.000\n",
      "title: Quadrilocale San Cataldo, San Cataldo, Trappeto, Link: https://www.immobiliare.it/annunci/93156906/, Prezzo al m²: 1744.1860465116279, Superficie: 86, Price: € 150.000\n",
      "title: Villa unifamiliare, buono stato, 100 m², Piano Inferno Gelsomini Sorisi, Trappeto, Link: https://www.immobiliare.it/annunci/101589173/, Prezzo al m²: 1800.0, Superficie: 100, Price: € 180.000\n",
      "title: Trilocale via Salvatore Vitale 19, Centro, Trappeto, Link: https://www.immobiliare.it/annunci/103927749/, Prezzo al m²: 2264.1509433962265, Superficie: 53, Price: € 120.000\n"
     ]
    }
   ],
   "source": [
    "sorted_data = sorted(data.items(), key=lambda x: x[1]['Prezzo al m2'])\n",
    "\n",
    "for id, info in sorted_data:\n",
    "    print(f'title: {info[\"Title\"]}, Link: {info[\"Link\"]}, Prezzo al m²: {info[\"Prezzo al m2\"]}, Superficie: {info[\"Superficie\"]}, Price: {info[\"Price\"]}')\n"
   ]
  },
  {
   "cell_type": "code",
   "execution_count": 8,
   "metadata": {},
   "outputs": [],
   "source": [
    "html_content = \"<html><body><table>\"\n",
    "\n",
    "# Add table headers\n",
    "html_content += \"<tr><th>Title</th><th>Link</th><th>Prezzo al m²</th><th>Superficie</th><th>Price</th></tr>\"\n",
    "\n",
    "for id, info in sorted_data:\n",
    "    value = info['Prezzo al m2'] if info['Prezzo al m2'] < 1 else round(info['Prezzo al m2'])\n",
    "    html_content += f'<tr><td>{info[\"Title\"]}</td><td><a href=\"{info[\"Link\"]}\">Link</a></td><td>{value if value > 0 else \"N/A\"} €/m² </td><td>{info[\"Superficie\"]}</td><td>{info[\"Price\"]}</td></tr>'\n",
    "\n",
    "html_content += \"</table></body></html>\"\n",
    "\n",
    "# Write the HTML content to a file\n",
    "with open('output.html', 'w', encoding='utf-8') as f:\n",
    "    f.write(html_content)"
   ]
  }
 ],
 "metadata": {
  "kernelspec": {
   "display_name": "Python 3",
   "language": "python",
   "name": "python3"
  },
  "language_info": {
   "codemirror_mode": {
    "name": "ipython",
    "version": 3
   },
   "file_extension": ".py",
   "mimetype": "text/x-python",
   "name": "python",
   "nbconvert_exporter": "python",
   "pygments_lexer": "ipython3",
   "version": "3.7.9"
  }
 },
 "nbformat": 4,
 "nbformat_minor": 2
}
